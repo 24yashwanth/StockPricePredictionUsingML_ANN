{
 "cells": [
  {
   "cell_type": "code",
   "execution_count": 43,
   "id": "d483c697",
   "metadata": {},
   "outputs": [],
   "source": [
    "# Raw Package\n",
    "import numpy as np\n",
    "import pandas as pd\n",
    "import time\n",
    "\n",
    "#Data Source\n",
    "import yfinance as yf\n",
    "\n",
    "#Data viz\n",
    "import plotly.graph_objs as go\n",
    "\n",
    "import math\n",
    "from math import sqrt\n",
    "from keras.models import Sequential\n",
    "from keras.layers.core import Dense, Dropout, Activation"
   ]
  },
  {
   "cell_type": "code",
   "execution_count": 44,
   "id": "60390cd2",
   "metadata": {},
   "outputs": [
    {
     "name": "stdout",
     "output_type": "stream",
     "text": [
      "[*********************100%***********************]  1 of 1 completed\n"
     ]
    }
   ],
   "source": [
    "def show_chart(data,stockName):\n",
    "    #declare figure\n",
    "    fig = go.Figure()\n",
    "\n",
    "    #Candlestick\n",
    "    fig.add_trace(go.Candlestick(x=data.index,\n",
    "                    open=data['Open'],\n",
    "                    high=data['High'],\n",
    "                    low=data['Low'],\n",
    "                    close=data['Close'], name = 'market data'))\n",
    "\n",
    "    # Add titles\n",
    "    fig.update_layout(\n",
    "        title='{} live share price evolution'.format(stockName),\n",
    "        yaxis_title='Stock Price (USD per Shares)')\n",
    "\n",
    "    # X-Axes\n",
    "    fig.update_xaxes(\n",
    "        rangeslider_visible=True,\n",
    "        rangeselector=dict(\n",
    "            buttons=list([\n",
    "                dict(count=15, label=\"15m\", step=\"minute\", stepmode=\"backward\"),\n",
    "                dict(count=45, label=\"45m\", step=\"minute\", stepmode=\"backward\"),\n",
    "                dict(count=1, label=\"HTD\", step=\"hour\", stepmode=\"todate\"),\n",
    "                dict(count=3, label=\"3h\", step=\"hour\", stepmode=\"backward\"),\n",
    "                dict(step=\"all\")\n",
    "            ])\n",
    "        )\n",
    "    )\n",
    "\n",
    "    #Show\n",
    "    fig.show()\n",
    "\n",
    "def extractData(stockName=None,period=None,interval=None,start=None,end=None):\n",
    "    if(period!=None):\n",
    "        data = yf.download(tickers=stockName, period=period, interval=interval)\n",
    "    else:\n",
    "        data = yf.download(tickers=stockName, start=\"2009-05-04\", end=\"2020-05-04\", interval=interval)\n",
    "    return data\n",
    "    \n",
    "stockName = 'JPM'\n",
    "data=extractData(stockName=stockName,period='20y',interval='1d')\n",
    "# data=extractData(stockName='TATASTEEL',start=\"2009-05-04\", end=\"2020-05-04\",interval='1m')\n",
    "# show_chart(data,stockName)\n",
    "data.to_excel(f\"{stockName}.xlsx\")\n",
    "Open = data['Open'],\n",
    "high = data['High']\n",
    "low = data['Low'],\n",
    "close = data['Close']\n",
    "adjClose = data['Adj Close']\n",
    "volume = data['Volume']\n",
    "\n",
    "\n",
    "highLow = []\n",
    "openClose = []\n",
    "for H,L in zip(high,low):\n",
    "    highLow.append(H-L)\n",
    "for O,C in zip(Open,close):\n",
    "    openClose.append(O-C)\n",
    "\n",
    "sevenDaysMA = data.rolling(window=7).mean()\n",
    "fourteenDaysMA = data.rolling(window=14).mean()\n",
    "twentyoneDaysMA = data.rolling(window=21).mean()\n",
    "sevenDaysSD = data.rolling(window=7).std()"
   ]
  },
  {
   "cell_type": "code",
   "execution_count": 45,
   "id": "7e810b4f",
   "metadata": {},
   "outputs": [],
   "source": [
    "dataFrame = pd.DataFrame(data)\n",
    "dataFrame['highLow'] = highLow[0]\n",
    "dataFrame['openClose'] = openClose[0]\n",
    "dataFrame['sevenDaysMA'] = sevenDaysMA['Close']\n",
    "dataFrame['fourteenDaysMA'] = fourteenDaysMA['Close']\n",
    "dataFrame['twentyoneDaysMA'] = twentyoneDaysMA['Close']\n",
    "dataFrame['sevenDaysSD'] = sevenDaysSD['Close']\n",
    "\n",
    "dataFrame.drop(dataFrame.columns[[0,1,2,4,5]], axis=1, inplace=True)\n",
    "\n",
    "for i in dataFrame:\n",
    "    values=dataFrame[i].isnull()\n",
    "    for j in range(len(values)):\n",
    "        if(values[j]==True):\n",
    "            dataFrame[i][j]=0\n",
    "\n",
    "# print(dataFrame)\n",
    "X = dataFrame[['highLow','openClose','sevenDaysMA','fourteenDaysMA','twentyoneDaysMA','sevenDaysSD']]\n",
    "Y = dataFrame[['Close']]\n",
    "\n",
    "factor = 0.80\n",
    "length = X.shape[0]\n",
    "total_for_train = int(length*factor)\n",
    "\n",
    "X_train = X[:total_for_train]\n",
    "Y_train = Y[:total_for_train]\n",
    "X_test = X[total_for_train:]\n",
    "Y_test = Y[total_for_train:]"
   ]
  },
  {
   "cell_type": "code",
   "execution_count": 46,
   "id": "5b4a7f8a",
   "metadata": {},
   "outputs": [
    {
     "name": "stdout",
     "output_type": "stream",
     "text": [
      "Train on 3826 samples, validate on 202 samples\n",
      "Epoch 1/25\n",
      "3826/3826 [==============================] - 0s 27us/step - loss: 2842.4731 - val_loss: 11208.7041\n",
      "Epoch 2/25\n",
      "3826/3826 [==============================] - 0s 8us/step - loss: 2395.0487 - val_loss: 6648.7186\n",
      "Epoch 3/25\n",
      "3826/3826 [==============================] - 0s 8us/step - loss: 721.0767 - val_loss: 33.2678\n",
      "Epoch 4/25\n",
      "3826/3826 [==============================] - 0s 7us/step - loss: 27.0472 - val_loss: 40.6220\n",
      "Epoch 5/25\n",
      "3826/3826 [==============================] - 0s 6us/step - loss: 13.0332 - val_loss: 85.6870\n",
      "Epoch 6/25\n",
      "3826/3826 [==============================] - 0s 7us/step - loss: 11.1990 - val_loss: 70.7344\n",
      "Epoch 7/25\n",
      "3826/3826 [==============================] - 0s 6us/step - loss: 9.4110 - val_loss: 58.6132\n",
      "Epoch 8/25\n",
      "3826/3826 [==============================] - 0s 6us/step - loss: 6.6254 - val_loss: 21.9988\n",
      "Epoch 9/25\n",
      "3826/3826 [==============================] - 0s 6us/step - loss: 4.4577 - val_loss: 14.9647\n",
      "Epoch 10/25\n",
      "3826/3826 [==============================] - 0s 6us/step - loss: 3.6127 - val_loss: 9.7033\n",
      "Epoch 11/25\n",
      "3826/3826 [==============================] - 0s 6us/step - loss: 3.4228 - val_loss: 7.5852\n",
      "Epoch 12/25\n",
      "3826/3826 [==============================] - 0s 6us/step - loss: 3.3839 - val_loss: 8.9291\n",
      "Epoch 13/25\n",
      "3826/3826 [==============================] - 0s 6us/step - loss: 3.3390 - val_loss: 6.7750\n",
      "Epoch 14/25\n",
      "3826/3826 [==============================] - 0s 7us/step - loss: 3.2732 - val_loss: 8.1003\n",
      "Epoch 15/25\n",
      "3826/3826 [==============================] - 0s 6us/step - loss: 3.2093 - val_loss: 10.0837\n",
      "Epoch 16/25\n",
      "3826/3826 [==============================] - 0s 7us/step - loss: 3.1696 - val_loss: 8.4669\n",
      "Epoch 17/25\n",
      "3826/3826 [==============================] - 0s 6us/step - loss: 3.0938 - val_loss: 6.2300\n",
      "Epoch 18/25\n",
      "3826/3826 [==============================] - 0s 6us/step - loss: 3.0015 - val_loss: 6.6982\n",
      "Epoch 19/25\n",
      "3826/3826 [==============================] - 0s 7us/step - loss: 2.9389 - val_loss: 4.8074\n",
      "Epoch 20/25\n",
      "3826/3826 [==============================] - 0s 7us/step - loss: 2.8828 - val_loss: 5.7434\n",
      "Epoch 21/25\n",
      "3826/3826 [==============================] - 0s 6us/step - loss: 2.8071 - val_loss: 5.7893\n",
      "Epoch 22/25\n",
      "3826/3826 [==============================] - 0s 7us/step - loss: 2.7590 - val_loss: 5.7442\n",
      "Epoch 23/25\n",
      "3826/3826 [==============================] - 0s 6us/step - loss: 2.6655 - val_loss: 4.5747\n",
      "Epoch 24/25\n",
      "3826/3826 [==============================] - 0s 6us/step - loss: 2.6086 - val_loss: 5.5292\n",
      "Epoch 25/25\n",
      "3826/3826 [==============================] - 0s 6us/step - loss: 2.5733 - val_loss: 5.3699\n"
     ]
    },
    {
     "data": {
      "text/plain": [
       "<keras.callbacks.callbacks.History at 0x7fd2a65bf3a0>"
      ]
     },
     "execution_count": 46,
     "metadata": {},
     "output_type": "execute_result"
    }
   ],
   "source": [
    "classifier = Sequential()\n",
    "classifier.add(Dense(units = 32, kernel_initializer = 'uniform', activation = 'relu', input_dim = 6))\n",
    "classifier.add(Dense(units = 10, kernel_initializer = 'uniform', activation = 'relu'))\n",
    "classifier.add(Dense(units = 1, kernel_initializer = 'uniform', activation = 'linear'))\n",
    "classifier.compile(optimizer = 'adam', loss = 'mean_squared_error', metrics = [])\n",
    "classifier.fit(X_train, Y_train, batch_size = 128, epochs = 25, validation_split=0.05)"
   ]
  },
  {
   "cell_type": "code",
   "execution_count": 47,
   "id": "6e1882d5",
   "metadata": {},
   "outputs": [
    {
     "name": "stdout",
     "output_type": "stream",
     "text": [
      "1008 \n",
      " [[106.21416 ]\n",
      " [106.775536]\n",
      " [106.05994 ]\n",
      " ...\n",
      " [139.63272 ]\n",
      " [136.92    ]\n",
      " [135.42076 ]]\n"
     ]
    }
   ],
   "source": [
    "predictions = classifier.predict(X_test)\n",
    "print(len(predictions),'\\n',predictions[:])"
   ]
  },
  {
   "cell_type": "code",
   "execution_count": 48,
   "id": "7596a6de",
   "metadata": {},
   "outputs": [
    {
     "name": "stdout",
     "output_type": "stream",
     "text": [
      "Train Score: 2.63 MSE (1.62 RMSE)\n",
      "Test Score: 18.43 MSE (4.29 RMSE)\n"
     ]
    }
   ],
   "source": [
    "trainScore = classifier.evaluate(X_train, Y_train, verbose=0)\n",
    "print('Train Score: %.2f MSE (%.2f RMSE)' % (trainScore, math.sqrt(trainScore)))\n",
    "testScore = classifier.evaluate(X_test, Y_test, verbose=0)\n",
    "print('Test Score: %.2f MSE (%.2f RMSE)' % (testScore, math.sqrt(testScore)))\n",
    "\n",
    "def make_excelsheet(predictions,Y_test):\n",
    "    from xlwt import Workbook\n",
    "    \n",
    "    # Workbook is created\n",
    "    wb = Workbook()\n",
    "    \n",
    "    # add_sheet is used to create sheet.\n",
    "    sheet1 = wb.add_sheet('Sheet 1')\n",
    "    sheet1.write(0, 0, 'Original')\n",
    "    sheet1.write(0, 1, 'Predictions')\n",
    "    sheet1.write(0, 2, 'Difference')\n",
    "    sheet1.write(0, 3, 'Factor')\n",
    "    for i in range(len(predictions)):\n",
    "        sheet1.write(i+1, 0, '{}'.format(Y_test['Close'][i]))\n",
    "        sheet1.write(i+1, 1, '{}'.format(predictions[i][0]))\n",
    "        sheet1.write(i+1, 2, '{}'.format(Y_test['Close'][i] - predictions[i][0]))\n",
    "        sheet1.write(i+1, 3, '{}'.format(Y_test['Close'][i] / predictions[i][0]))\n",
    "    wb.save('Predictions.xls')\n",
    "\n",
    "make_excelsheet(predictions,Y_test)\n",
    "\n",
    "# Train Score: 7.46 MSE (2.73 RMSE)\n",
    "# Test Score: 148.71 MSE (12.19 RMSE)"
   ]
  },
  {
   "cell_type": "code",
   "execution_count": 49,
   "id": "04dd4453",
   "metadata": {},
   "outputs": [
    {
     "data": {
      "image/png": "[encoded data removed]",
      "text/plain": [
       "<Figure size 640x480 with 1 Axes>"
      ]
     },
     "metadata": {},
     "output_type": "display_data"
    }
   ],
   "source": [
    "if 'ClosePredictions' not in Y_test.columns:\n",
    "    Y_test.insert(0, \"ClosePredictions\", predictions, True)\n",
    "import matplotlib.pyplot as plt\n",
    "plt.plot(Y_test['ClosePredictions'],color='red', label='Predictions from the trained model')\n",
    "plt.legend(loc='upper left')\n",
    "plt.plot(Y_test['Close'],color='blue', label='Read values for the stock')\n",
    "plt.legend(loc='upper left')\n",
    "plt.show()\n",
    "\n",
    "Y_test.to_excel(\"Predictions_CLose.xlsx\")"
   ]
  },
  {
   "cell_type": "code",
   "execution_count": null,
   "id": "63c1277f",
   "metadata": {},
   "outputs": [],
   "source": []
  }
 ],
 "metadata": {
  "kernelspec": {
   "display_name": "Python 3",
   "language": "python",
   "name": "python3"
  },
  "language_info": {
   "codemirror_mode": {
    "name": "ipython",
    "version": 3
   },
   "file_extension": ".py",
   "mimetype": "text/x-python",
   "name": "python",
   "nbconvert_exporter": "python",
   "pygments_lexer": "ipython3",
   "version": "3.8.10"
  },
  "vscode": {
   "interpreter": {
    "hash": "916dbcbb3f70747c44a77c7bcd40155683ae19c65e1c03b4aa3499c5328201f1"
   }
  }
 },
 "nbformat": 4,
 "nbformat_minor": 5
}
